{
 "cells": [
  {
   "cell_type": "markdown",
   "metadata": {},
   "source": [
    "## PROBLEM SOLVING AND PROGRAMMING \n",
    "\n",
    "\n",
    "### DAY No - 11\n",
    "### DATE - 9TH MAY, 2019"
   ]
  },
  {
   "cell_type": "markdown",
   "metadata": {},
   "source": [
    "### DAY Outcomes\n",
    "\n",
    "1.*Objective 1: Problem 1\n",
    "\n",
    "2.*Objective 2: Problem 2\n",
    "\n",
    "3.*Objective 3: Problem 3\n",
    "\n",
    "\n"
   ]
  },
  {
   "cell_type": "markdown",
   "metadata": {},
   "source": [
    "### Problem 1:\n",
    "#### Problem Statement:  Given 2 int values, return True if one is negative and one is positive. Except if the parameter \"negative\" is True, then return True only if both are negative.\n",
    "\n",
    "#### CONSTRAINTS: Integer,Integer,Boolean value(true,false)\n",
    "\n",
    "#### Test cases \n",
    "* pos_neg(1, -1, False) → True\n",
    "* pos_neg(-1, 1, False) → True\n",
    "* pos_neg(-4, -5, True) → True \n",
    "* pos_neg(-1, 1, True) → False\n",
    "* pos_neg(1, 6, True) → False\n",
    "* pos_neg(-1, -9, False) → False "
   ]
  },
  {
   "cell_type": "code",
   "execution_count": 17,
   "metadata": {},
   "outputs": [
    {
     "name": "stdout",
     "output_type": "stream",
     "text": [
      "True\n",
      "True\n",
      "True\n",
      "False\n",
      "False\n",
      "False\n"
     ]
    }
   ],
   "source": [
    "def pos_neg (n1, n2, b):\n",
    "    return (n1>0 and n2<0 and b==False) or (n1<0 and n2>0 and b==False) or (n1<0 and n2<0 and b==True)\n",
    "    \n",
    "print(pos_neg(1, -1, False))\n",
    "print(pos_neg(-1, 1, False))\n",
    "print(pos_neg(-4, -5, True))  \n",
    "print(pos_neg(-1, 1, True)) \n",
    "print(pos_neg(1, 6, True)) \n",
    "print(pos_neg(-1, -9, False))      "
   ]
  },
  {
   "cell_type": "markdown",
   "metadata": {},
   "source": [
    "### Problem 2:\n",
    "#### Problem Statement: Given an int n, return True if it is within 10 of 100 or 200. Note: abs(num) computes the absolute value of a number.\n",
    "\n",
    "#### CONSTRAINTS: Integer,Integer\n",
    "\n",
    "#### Test cases\n",
    "* near_hundred(93) → True\n",
    "* near_hundred(90) → True\n",
    "* near_hundred(89) → False"
   ]
  },
  {
   "cell_type": "code",
   "execution_count": 20,
   "metadata": {},
   "outputs": [
    {
     "name": "stdout",
     "output_type": "stream",
     "text": [
      "True\n",
      "True\n",
      "False\n"
     ]
    }
   ],
   "source": [
    "def near_100(n1):\n",
    "    return (n1<101 and n1>89)\n",
    "\n",
    "print(near_100(93))\n",
    "print(near_100(90))\n",
    "print(near_100(89))"
   ]
  },
  {
   "cell_type": "markdown",
   "metadata": {},
   "source": [
    "### Problem 3:\n",
    "#### Problem Statement: Given 2 ints, a and b, return True if one if them is 10 or if their sum is 10.\n",
    "\n",
    "#### CONSTRAINTS: Integer,Integer\n",
    "\n",
    "#### Test cases\n",
    "* makes10(9, 10) → True\n",
    "* makes10(9, 9) → False\n",
    "* makes10(1, 9) → True"
   ]
  },
  {
   "cell_type": "code",
   "execution_count": 23,
   "metadata": {},
   "outputs": [
    {
     "name": "stdout",
     "output_type": "stream",
     "text": [
      "True\n",
      "False\n",
      "True\n"
     ]
    }
   ],
   "source": [
    "def makes_10(n1,n2):\n",
    "    return((n1+n2==10) or(n1==10) or (n2== 10))\n",
    "print(makes_10(9,10))\n",
    "print(makes_10(9,9))\n",
    "print(makes_10(9,10))"
   ]
  }
 ],
 "metadata": {
  "kernelspec": {
   "display_name": "Python 3",
   "language": "python",
   "name": "python3"
  },
  "language_info": {
   "codemirror_mode": {
    "name": "ipython",
    "version": 3
   },
   "file_extension": ".py",
   "mimetype": "text/x-python",
   "name": "python",
   "nbconvert_exporter": "python",
   "pygments_lexer": "ipython3",
   "version": "3.7.3"
  }
 },
 "nbformat": 4,
 "nbformat_minor": 2
}
