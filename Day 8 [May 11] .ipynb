{
 "cells": [
  {
   "cell_type": "markdown",
   "metadata": {},
   "source": [
    "## PROBLEM SOLVING AND PROGRAMMING \n",
    "\n",
    "\n",
    "### DAY No-8\n",
    "\n",
    "### DATE- 11TH MAY, 2019\n",
    "\n",
    "## NOTES\n",
    "\n",
    "### DAY OBJECTIVES\n",
    "\n",
    "1.*Objective 1\n",
    "\n",
    "2.*Objective 2    \n",
    "\n",
    "3.*Objective 3\n",
    "\n",
    "\n"
   ]
  },
  {
   "cell_type": "markdown",
   "metadata": {},
   "source": [
    "## Problem 1: \n",
    "\n",
    "### Problem Statement:   Define a function to convert a Decimal number to the corresponding Binary number\n",
    "\n",
    "### Constraints : Given number to be in range [1,1000]\n",
    "\n",
    "### Test Cases:\n",
    "* decimalToBinary(15) -> 1111\n",
    "* decimalToBinary(1) -> 1"
   ]
  },
  {
   "cell_type": "code",
   "execution_count": 2,
   "metadata": {},
   "outputs": [
    {
     "name": "stdout",
     "output_type": "stream",
     "text": [
      "1111"
     ]
    }
   ],
   "source": [
    "def decimalToBinary(n):\n",
    "    if(n>1):\n",
    "        decimalToBinary(n//2)\n",
    "    print(n%2,end='')\n",
    "# driver code\n",
    "if __name__ == '__main__':\n",
    "        decimalToBinary(15)"
   ]
  },
  {
   "cell_type": "markdown",
   "metadata": {},
   "source": [
    "## Problem 2: \n",
    "\n",
    "### Problem Statement: Define a function to check if a given year is a leap year. Returns a boolean value\n",
    "\n",
    "### Constraints :Integer no need of range\n",
    "\n",
    "### Test Cases:\n",
    "* 2000 -> True\n",
    "* 1900 -> False\n",
    "* 2012 -> True\n",
    "* 2020 -> True\n",
    "* 0200 -> False"
   ]
  },
  {
   "cell_type": "code",
   "execution_count": 5,
   "metadata": {},
   "outputs": [
    {
     "name": "stdout",
     "output_type": "stream",
     "text": [
      "True\n",
      "False\n",
      "True\n",
      "True\n",
      "False\n"
     ]
    }
   ],
   "source": [
    "def checkYear(year): \n",
    "    return (((year % 4 == 0) and (year % 100 != 0)) or (year % 400 == 0))\n",
    "\n",
    "print(checkYear(2000))\n",
    "print(checkYear(1900))\n",
    "print(checkYear(2012))\n",
    "print(checkYear(2020))\n",
    "print(checkYear(200))"
   ]
  },
  {
   "cell_type": "markdown",
   "metadata": {},
   "source": [
    "## Problem 3: \n",
    "\n",
    "#### Problem Statement: Design a Python script to determine the difference in date for given two dates in YYYY:MM:DD format(0 <= YYYY <= 9999, 1 <= MM <= 12, 1 <= DD <= 31) following the leap year rules. Return the total number of days existing between the two dates.\n",
    "\n",
    "### Constraints :Two different Dates \n",
    "\n",
    "### Test Cases:\n",
    "* dateDifference('2019:05:10', '2019:05:01') -> 9\n",
    "* dateDifference('0003:03:03', '0003:06:06') -> 95"
   ]
  },
  {
   "cell_type": "code",
   "execution_count": 21,
   "metadata": {},
   "outputs": [
    {
     "name": "stdout",
     "output_type": "stream",
     "text": [
      "-9 days\n"
     ]
    }
   ],
   "source": [
    "import datetime\n",
    "\n",
    "def numOfDays(date1, date2):\n",
    "    return (date2 - date1).days\n",
    "\n",
    "print(numOfDays(date(2019,5,10), date(2019,5,1)),\"days\") \n"
   ]
  },
  {
   "cell_type": "markdown",
   "metadata": {},
   "source": [
    "## Problem 4: \n",
    "\n",
    "### Problem Statement: Define a function to find the average of all the outer elements of an N x M matrix.\n",
    "\n",
    "### Constraints :Matrix\n",
    "\n",
    "### Test Cases:\n",
    "* averageOuterMatrix([[1, 2, 3], [4, 5, 6], [7, 8, 9], [10, 11, 12]] -> 6.5"
   ]
  },
  {
   "cell_type": "code",
   "execution_count": 24,
   "metadata": {},
   "outputs": [
    {
     "data": {
      "text/plain": [
       "6.5"
      ]
     },
     "execution_count": 24,
     "metadata": {},
     "output_type": "execute_result"
    }
   ],
   "source": [
    "def aom(a):\n",
    "    c=s=0\n",
    "    for i in range(0,len(a)):\n",
    "        if (i==0)or(i==len(a)-1):\n",
    "            s=s+sum(a[i])\n",
    "            c=c+len(a[i])\n",
    "        else:\n",
    "            s=s+a[i][0]+a[i][len(a[i])-1]\n",
    "            c=c+2\n",
    "    return s/c\n",
    "\n",
    "aom([[1,2,3], [4, 5, 6], [7, 8, 9], [10, 11, 12]])           \n"
   ]
  },
  {
   "cell_type": "markdown",
   "metadata": {},
   "source": [
    "## Problem 5: \n",
    "\n",
    "### Problem Statement:Define a function to print the sequence of spiral pattern elements for a given N x N matrix\n",
    "\n",
    "### Constraints :Integer in a pattern\n",
    "\n",
    "### Test Cases:\n",
    "* spiralPattern([[1,2,3], [4,5,6], [7,8,9]]) -> 1 2 3 6 9 8 7 4 5"
   ]
  },
  {
   "cell_type": "code",
   "execution_count": 53,
   "metadata": {},
   "outputs": [
    {
     "name": "stdout",
     "output_type": "stream",
     "text": [
      "1236456"
     ]
    }
   ],
   "source": [
    "def sprialpattern(a):\n",
    "    k=0\n",
    "    l=0\n",
    "    m=len(a)\n",
    "    for i in range(0,len(a)):\n",
    "        n=len(a[i])\n",
    "    while(k<m) and(l<n):\n",
    "        for i in range (l,n):\n",
    "            print(a[k][i],end='')\n",
    "        k+=1\n",
    "        for i in range (i+1,k):\n",
    "            print(a[i][n],end='')\n",
    "        if(k<m):\n",
    "            for i in range (n-1,(l-1)-1):\n",
    "                print(a[m-1][i],end='')\n",
    "            m-=1\n",
    "        if(l<n):\n",
    "            for i in range (m-1,(k-1)-1):\n",
    "                print(a[i][l],end='')\n",
    "            l-=1\n",
    "sprialpattern([[1,2,3], [4,5,6], [7,8,9]])"
   ]
  },
  {
   "cell_type": "code",
   "execution_count": null,
   "metadata": {},
   "outputs": [],
   "source": []
  }
 ],
 "metadata": {
  "kernelspec": {
   "display_name": "Python 3",
   "language": "python",
   "name": "python3"
  },
  "language_info": {
   "codemirror_mode": {
    "name": "ipython",
    "version": 3
   },
   "file_extension": ".py",
   "mimetype": "text/x-python",
   "name": "python",
   "nbconvert_exporter": "python",
   "pygments_lexer": "ipython3",
   "version": "3.7.3"
  }
 },
 "nbformat": 4,
 "nbformat_minor": 2
}
