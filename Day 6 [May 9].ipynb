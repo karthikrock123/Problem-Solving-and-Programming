{
 "cells": [
  {
   "cell_type": "markdown",
   "metadata": {},
   "source": [
    "## PROBLEM SOLVING AND PROGRAMMING \n",
    "\n",
    "\n",
    "### DAY No - 6\n",
    "### DATE - 9TH MAY, 2019"
   ]
  },
  {
   "cell_type": "markdown",
   "metadata": {},
   "source": [
    "### DAY Outcomes\n",
    "\n",
    "1.*Objective 1: Problem 1\n",
    "\n",
    "2.*Objective 2: Problem 2\n",
    "\n",
    "3.*Objective 3: Problem 3\n",
    "\n",
    "\n"
   ]
  },
  {
   "cell_type": "markdown",
   "metadata": {},
   "source": [
    "### Problem 1:\n",
    "#### Problem Statement:  Given 2 int values, return True if one is negative and one is positive. Except if the parameter \"negative\" is True, then return True only if both are negative.\n",
    "\n",
    "#### CONSTRAINTS: Integer,Integer,Boolean value(true,false)\n",
    "\n",
    "#### Test cases \n",
    "* pos_neg(1, -1, False) → True\n",
    "* pos_neg(-1, 1, False) → True\n",
    "* pos_neg(-4, -5, True) → True \n",
    "* pos_neg(-1, 1, True) → False\n",
    "* pos_neg(1, 6, True) → False\n",
    "* pos_neg(-1, -9, False) → False "
   ]
  },
  {
   "cell_type": "code",
   "execution_count": 17,
   "metadata": {},
   "outputs": [
    {
     "name": "stdout",
     "output_type": "stream",
     "text": [
      "True\n",
      "True\n",
      "True\n",
      "False\n",
      "False\n",
      "False\n"
     ]
    }
   ],
   "source": [
    "def pos_neg (n1, n2, b):\n",
    "    return (n1>0 and n2<0 and b==False) or (n1<0 and n2>0 and b==False) or (n1<0 and n2<0 and b==True)\n",
    "    \n",
    "print(pos_neg(1, -1, False))\n",
    "print(pos_neg(-1, 1, False))\n",
    "print(pos_neg(-4, -5, True))  \n",
    "print(pos_neg(-1, 1, True)) \n",
    "print(pos_neg(1, 6, True)) \n",
    "print(pos_neg(-1, -9, False))      "
   ]
  },
  {
   "cell_type": "markdown",
   "metadata": {},
   "source": [
    "### Problem 2:\n",
    "#### Problem Statement: Given an int n, return True if it is within 10 of 100 or 200. Note: abs(num) computes the absolute value of a number.\n",
    "\n",
    "#### CONSTRAINTS: Integer,Integer\n",
    "\n",
    "#### Test cases\n",
    "* near_hundred(93) → True\n",
    "* near_hundred(90) → True\n",
    "* near_hundred(89) → False"
   ]
  },
  {
   "cell_type": "code",
   "execution_count": 20,
   "metadata": {},
   "outputs": [
    {
     "name": "stdout",
     "output_type": "stream",
     "text": [
      "True\n",
      "True\n",
      "False\n"
     ]
    }
   ],
   "source": [
    "def near_100(n1):\n",
    "    return (n1<101 and n1>89)\n",
    "\n",
    "print(near_100(93))\n",
    "print(near_100(90))\n",
    "print(near_100(89))"
   ]
  },
  {
   "cell_type": "markdown",
   "metadata": {},
   "source": [
    "### Problem 3:\n",
    "#### Problem Statement: Given 2 ints, a and b, return True if one if them is 10 or if their sum is 10.\n",
    "\n",
    "#### CONSTRAINTS: Integer,Integer\n",
    "\n",
    "#### Test cases\n",
    "* makes10(9, 10) → True\n",
    "* makes10(9, 9) → False\n",
    "* makes10(1, 9) → True"
   ]
  },
  {
   "cell_type": "code",
   "execution_count": 23,
   "metadata": {},
   "outputs": [
    {
     "name": "stdout",
     "output_type": "stream",
     "text": [
      "True\n",
      "False\n",
      "True\n"
     ]
    }
   ],
   "source": [
    "def makes_10(n1,n2):\n",
    "    return((n1+n2==10) or(n1==10) or (n2== 10))\n",
    "print(makes_10(9,10))\n",
    "print(makes_10(9,9))\n",
    "print(makes_10(9,10))"
   ]
  },
  {
   "cell_type": "markdown",
   "metadata": {},
   "source": [
    "### Problem 4:\n",
    "#### Problem Statement: Create a Random Number Generator  which takes the Range(lb, ub) and returns a Random number in the given range\n",
    "\n",
    "#### CONSTRAINTS: Integer,Integer\n",
    "\n",
    "#### Test cases\n",
    "*  RandomGenerator(1,100)->will be in a range of 1 to 100"
   ]
  },
  {
   "cell_type": "code",
   "execution_count": 28,
   "metadata": {},
   "outputs": [
    {
     "data": {
      "text/plain": [
       "3"
      ]
     },
     "execution_count": 28,
     "metadata": {},
     "output_type": "execute_result"
    }
   ],
   "source": [
    "import random\n",
    "\n",
    "def  randomGenerator(lb,ub):\n",
    "    return random.randrange(lb+1,ub)\n",
    "\n",
    "randomGenerator(1,101)"
   ]
  },
  {
   "cell_type": "markdown",
   "metadata": {},
   "source": [
    "##### Alternative Solution"
   ]
  },
  {
   "cell_type": "code",
   "execution_count": 30,
   "metadata": {},
   "outputs": [
    {
     "data": {
      "text/plain": [
       "83"
      ]
     },
     "execution_count": 30,
     "metadata": {},
     "output_type": "execute_result"
    }
   ],
   "source": [
    "from random import randrange\n",
    "\n",
    "def  randomGenerator(lb,ub):\n",
    "    return randrange(lb+1,ub)\n",
    "\n",
    "randomGenerator(1,101)"
   ]
  },
  {
   "cell_type": "markdown",
   "metadata": {},
   "source": [
    "### Problem 5:\n",
    "#### Problem Statement:  Create a Sum of N Random Number takes the Range(lb, ub) and returns a Random number in the given range\n",
    "\n",
    "#### CONSTRAINTS: Integer,Integer\n",
    "\n",
    "#### Test cases \n",
    "* Test case"
   ]
  },
  {
   "cell_type": "code",
   "execution_count": 53,
   "metadata": {},
   "outputs": [
    {
     "data": {
      "text/plain": [
       "743"
      ]
     },
     "execution_count": 53,
     "metadata": {},
     "output_type": "execute_result"
    }
   ],
   "source": [
    "from random import randint\n",
    "\n",
    "def sumRandomNumber(n,ib,ub):\n",
    "    sum=0\n",
    "    for count in range(1,n+1):\n",
    "        sum=sum+ randint(ib,ub)\n",
    "        return sum\n",
    "sumRandomNumber(10,100,1000)"
   ]
  },
  {
   "cell_type": "markdown",
   "metadata": {},
   "source": [
    "### Problem 5:\n",
    "#### Problem Statement:  Create a Sum of N Random Number takes the Range(lb, ub) and returns a Random number in the given range\n",
    "\n",
    "#### CONSTRAINTS: Integer,Integer\n",
    "\n",
    "#### Test cases \n",
    "data( a[1,2,3,4,5] ) -> Max = 5, Min = 1, Avg = 3"
   ]
  },
  {
   "cell_type": "code",
   "execution_count": 46,
   "metadata": {},
   "outputs": [
    {
     "name": "stdout",
     "output_type": "stream",
     "text": [
      "max 5\n",
      "min 1\n",
      "avg 3.0\n"
     ]
    }
   ],
   "source": [
    "def array(a):\n",
    "    print(\"max\",max(a))\n",
    "    print(\"min\",min(a))\n",
    "    print(\"avg\",(max(a)+min(a))/2)\n",
    "a=[1,2,3,4,5]\n",
    "array(a)"
   ]
  },
  {
   "cell_type": "markdown",
   "metadata": {},
   "source": [
    "### Problem 7:\n",
    "#### Problem Statement: Design a procedure to perform Linear search on list of N unsorted numbers. It take an array and the key element to be searched and returns the index of the element of key element if found. Else returns -1\n",
    "\n",
    "#### CONSTRAINTS: Integer,Integer\n",
    "\n",
    "#### Test cases \n",
    "* linearSearch([1,4,8,0,3,5,6],3)-> 4\n",
    "* linearSearch([15,12,9,6,3,-3],0)-> 1\n",
    "* linearSearch([321,543,567,789],567)-> 2"
   ]
  },
  {
   "cell_type": "code",
   "execution_count": 60,
   "metadata": {},
   "outputs": [
    {
     "name": "stdout",
     "output_type": "stream",
     "text": [
      "1\n",
      "-1\n",
      "2\n"
     ]
    }
   ],
   "source": [
    "def linearSearch(li1,k):\n",
    "    for index in range(0,len(li1)):\n",
    "        if(li1[index]==k):\n",
    "            return index\n",
    "        \n",
    "    return-1        \n",
    "print(linearSearch([1,4,8,0,3,5,6],4))\n",
    "print(linearSearch([15,12,9,6,3,-3],0))\n",
    "print(linearSearch([321,543,567,789],567))\n",
    "    "
   ]
  },
  {
   "cell_type": "markdown",
   "metadata": {},
   "source": [
    "### Problem 8:\n",
    "#### Problem Statement:Design a procedure to determine if a given string is a Palindrome\n",
    "\n",
    "#### CONSTRAINTS: Integer,Integer\n",
    "\n",
    "#### Test cases\n",
    "* Palindrome(\"racecar\") -> True\n",
    "* Palindrome(\"raptor\") -> False"
   ]
  },
  {
   "cell_type": "code",
   "execution_count": 23,
   "metadata": {
    "scrolled": true
   },
   "outputs": [
    {
     "name": "stdout",
     "output_type": "stream",
     "text": [
      "False\n",
      "True\n"
     ]
    }
   ],
   "source": [
    "def palindrome(str1):\n",
    "    for index in range(0,len(str1)-1):\n",
    "        rev=(str1==(str1[::-1]))\n",
    "    return rev\n",
    "\n",
    "print(palindrome(\"raptor\"))\n",
    "print(palindrome(\"malayalam\"))"
   ]
  },
  {
   "cell_type": "markdown",
   "metadata": {},
   "source": [
    "### Problem 9:\n",
    "#### Problem Statement:Design a procedure to determine if a given string is a Palindrome\n",
    "\n",
    "#### CONSTRAINTS: Integer,Integer\n",
    "\n",
    "#### Test case\n",
    "* Squareroot(36) -> 6"
   ]
  },
  {
   "cell_type": "code",
   "execution_count": 29,
   "metadata": {},
   "outputs": [
    {
     "name": "stdout",
     "output_type": "stream",
     "text": [
      "6.0\n",
      "9.9498743710662\n"
     ]
    }
   ],
   "source": [
    "def sqrt(n1):\n",
    "    return n1**(1/2)\n",
    "print(sqrt(36))\n",
    "print(sqrt(99))"
   ]
  }
 ],
 "metadata": {
  "kernelspec": {
   "display_name": "Python 3",
   "language": "python",
   "name": "python3"
  },
  "language_info": {
   "codemirror_mode": {
    "name": "ipython",
    "version": 3
   },
   "file_extension": ".py",
   "mimetype": "text/x-python",
   "name": "python",
   "nbconvert_exporter": "python",
   "pygments_lexer": "ipython3",
   "version": "3.7.3"
  }
 },
 "nbformat": 4,
 "nbformat_minor": 2
}
